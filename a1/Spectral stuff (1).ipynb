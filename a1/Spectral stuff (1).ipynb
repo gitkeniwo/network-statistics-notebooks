{
 "cells": [
  {
   "cell_type": "code",
   "execution_count": 1,
   "id": "0ea875af",
   "metadata": {},
   "outputs": [],
   "source": [
    "import networkx as nx\n",
    "import numpy as np\n",
    "import matplotlib.pyplot as plt\n",
    "import random\n",
    "from sklearn.cluster import KMeans"
   ]
  },
  {
   "cell_type": "code",
   "execution_count": 6,
   "id": "1ac3eb0e",
   "metadata": {},
   "outputs": [],
   "source": [
    "g = nx.read_edgelist(\"./vidal_tsv\")\n",
    "g = nx.convert_node_labels_to_integers(g)"
   ]
  },
  {
   "cell_type": "code",
   "execution_count": 7,
   "id": "a09993bd",
   "metadata": {},
   "outputs": [],
   "source": [
    "def group_belonging(i: int, n: list):\n",
    "    if i >= sum(n):\n",
    "        raise ValueError(\"Such item does not belong in n\")\n",
    "        \n",
    "    for j in range(1, len(n)):\n",
    "        if sum(n[:j]) > i:\n",
    "            return j-1\n",
    "    return len(n)-1\n",
    "\n",
    "\n",
    "def generate_weights_matrix(G: nx.Graph, W: np.array, n: list) -> np.array:\n",
    "    ''''''\n",
    "    \n",
    "    #cumulative_n = [sum(n[:i]) for i in range(len(n)+1)]\n",
    "    \n",
    "    weights_matrix = np.full((sum(n), sum(n)), -1.0)\n",
    "\n",
    "    #For each node:\n",
    "    for key in range(sum(n)):\n",
    "        group1 = group_belonging(key, n)\n",
    "\n",
    "        #For each other node:\n",
    "        for potential_neighbour in range(sum(n)):\n",
    "\n",
    "            #If the node is a neighbour:\n",
    "            if (potential_neighbour in G.adj[key]):\n",
    "\n",
    "                #If this is the first time we see the edge - generate weight:\n",
    "                if potential_neighbour > key:\n",
    "                    group2 = group_belonging(potential_neighbour, n)\n",
    "                    mean = W[group1][group2] #Retrieve the mean of the distribution from the weight matrix\n",
    "                    weight = round(abs(np.random.normal(loc=mean, scale=1.0)), 2) #Using the absolute value here\n",
    "                    weights_matrix[key][potential_neighbour] = weight\n",
    "\n",
    "                #Else, copy the weight given before:\n",
    "                else:\n",
    "                    weights_matrix[key][potential_neighbour] = weights_matrix[potential_neighbour][key]\n",
    "\n",
    "            elif potential_neighbour == key: #Self-loops' weight goes here\n",
    "                weights_matrix[key][potential_neighbour] = 0\n",
    "\n",
    "            else: #Regular disconnected nodes\n",
    "                weights_matrix[key][potential_neighbour] = 0\n",
    "                \n",
    "    return weights_matrix"
   ]
  },
  {
   "cell_type": "code",
   "execution_count": 5,
   "id": "cea0efd8",
   "metadata": {},
   "outputs": [
    {
     "data": {
      "text/plain": [
       "array([[0.36119547, 0.12300162, 0.3357875 , 0.20030531, 0.68590409],\n",
       "       [0.23884087, 0.1523217 , 0.53237398, 0.41053776, 0.84537043],\n",
       "       [0.77038629, 0.37564969, 0.33464693, 0.55497221, 0.08277426],\n",
       "       [0.89723809, 0.39282269, 0.57409779, 0.13222192, 0.56125917],\n",
       "       [0.42238598, 0.57712705, 0.44474806, 0.93270828, 0.19383199]])"
      ]
     },
     "execution_count": 5,
     "metadata": {},
     "output_type": "execute_result"
    }
   ],
   "source": [
    "np.random.random((5, 5))"
   ]
  },
  {
   "cell_type": "code",
   "execution_count": 20,
   "id": "bbe68f6a",
   "metadata": {},
   "outputs": [
    {
     "data": {
      "text/plain": [
       "array([[0.52429769, 0.38362607, 0.37776278, 0.26015334],\n",
       "       [0.31708468, 0.50727901, 0.18707806, 0.46227961],\n",
       "       [0.19918515, 0.20772215, 0.52248608, 0.25637579],\n",
       "       [0.39914289, 0.28225248, 0.04421757, 0.39379054]])"
      ]
     },
     "execution_count": 20,
     "metadata": {},
     "output_type": "execute_result"
    }
   ],
   "source": [
    "k = 4\n",
    "P = np.random.random((k, k)) / 2 \n",
    "P = P + np.diag(np.random.random(k) / 4)\n",
    "# P = (P + P.transpose()) / 2\n",
    "P"
   ]
  },
  {
   "cell_type": "code",
   "execution_count": 24,
   "id": "b5f15632",
   "metadata": {},
   "outputs": [
    {
     "data": {
      "text/plain": [
       "(array([[0.52, 0.38, 0.38, 0.26],\n",
       "        [0.32, 0.51, 0.19, 0.46],\n",
       "        [0.2 , 0.21, 0.52, 0.26],\n",
       "        [0.4 , 0.28, 0.04, 0.39]]),\n",
       " array([[0.52, 0.38, 0.38, 0.26],\n",
       "        [0.32, 0.51, 0.19, 0.46],\n",
       "        [0.2 , 0.21, 0.52, 0.26],\n",
       "        [0.4 , 0.28, 0.04, 0.39]]))"
      ]
     },
     "execution_count": 24,
     "metadata": {},
     "output_type": "execute_result"
    }
   ],
   "source": [
    "np.random.random(k)\n",
    "np.diag(np.random.random(k)/4)\n",
    "P, np.around(P, 2)"
   ]
  },
  {
   "cell_type": "code",
   "execution_count": 8,
   "id": "beb6fe0f",
   "metadata": {},
   "outputs": [],
   "source": [
    "def generate_dataset_and_test_spectral(k: int, n = None):\n",
    "    '''Use this to generate ground-truth data and test Spectral Clustering using this dataset\n",
    "    \n",
    "    I am not entire sure this last part works correctly (but the U is generated perfectly)'''\n",
    "    \n",
    "    if n is None:\n",
    "        n = [random.randint(10, 50) for _ in range(k)]\n",
    "        print(\"n =\", n, \", sum of n =\", sum(n))\n",
    "        \n",
    "    #This is ingenious. \n",
    "    # All inter-community probs for edge are [0, 1/2] while in-community probs are [1/4, 3/4]\n",
    "    P = np.random.random((k, k))/2 #([0,0.5])\n",
    "    P = P + np.diag(np.random.random(k)/4)\n",
    "    #Avering out the off-diagonal entries, 'cause P must be symmetrical. Also, rounding\n",
    "    P = (P + P.transpose()) / 2\n",
    "    P = np.around(P, 2)\n",
    "    \n",
    "    #All inter-community Gaussian means of weights are [1/4, 3/4] while in-community means are [1/2, 1]\n",
    "    W = P + np.full((k, k), 0.25)\n",
    "    \n",
    "    #Create the graph\n",
    "    G = nx.stochastic_block_model(n, P)\n",
    "    \n",
    "    #Generate a weight (Gaussian but positive) for each edge on the graph\n",
    "    weights_matrix = generate_weights_matrix(G, W, n)\n",
    "    \n",
    "    #Generate the matrix of degrees of each node\n",
    "    D = np.diag(np.sum(weights_matrix, axis=1))\n",
    "    \n",
    "    #L is the laplacian (unnormalized)\n",
    "    L = D - weights_matrix\n",
    "    \n",
    "    #Extract the eigenstuff from the unnormalized Laplacian\n",
    "    eigenvalues, eigenvectors = np.linalg.eig(L)\n",
    "    \n",
    "    #Sort the eigenstuff by the eigenvalues (ascending)\n",
    "    eigenstuff = dict(zip(eigenvalues, eigenvectors))\n",
    "    eigenstuff = dict(sorted(eigenstuff.items()))\n",
    "    \n",
    "    #Extract the k lowest eigenstuff\n",
    "    first_k_eigenstuff, i = {}, 0\n",
    "    for key in eigenstuff:\n",
    "        first_k_eigenstuff[key] = eigenstuff[key]\n",
    "        i += 1\n",
    "        if i >= k:\n",
    "            break\n",
    "\n",
    "    #At this point we can get rid of eigenvalues and just focus on creating matrix U with eigenvectors as columns\n",
    "    U = np.column_stack([first_k_eigenstuff[key] for key in first_k_eigenstuff])\n",
    "    \n",
    "    #This already works per row, so we do not need to reshape the data again :D\n",
    "    kmeans = KMeans(n_clusters=k, random_state=0, n_init=\"auto\").fit(U)\n",
    "    \n",
    "    y_true = []\n",
    "    for cluster_number in range(len(n)):\n",
    "        y_true += [cluster_number for _ in range(n[cluster_number])]\n",
    "    \n",
    "    return kmeans"
   ]
  },
  {
   "cell_type": "code",
   "execution_count": 9,
   "id": "f69c8e92",
   "metadata": {},
   "outputs": [
    {
     "name": "stdout",
     "output_type": "stream",
     "text": [
      "n = [30, 20, 31, 36] , sum of n = 117\n"
     ]
    }
   ],
   "source": [
    "kmeans = generate_dataset_and_test_spectral(k=4)"
   ]
  },
  {
   "cell_type": "code",
   "execution_count": 10,
   "id": "7e81c597",
   "metadata": {},
   "outputs": [
    {
     "name": "stdout",
     "output_type": "stream",
     "text": [
      "117\n"
     ]
    },
    {
     "data": {
      "text/plain": [
       "array([2, 0, 3, 2, 2, 3, 2, 2, 1, 2, 1, 1, 2, 2, 1, 2, 2, 3, 1, 3, 2, 2,\n",
       "       3, 3, 1, 2, 1, 3, 0, 3, 3, 3, 3, 1, 3, 3, 3, 3, 2, 1, 2, 2, 2, 2,\n",
       "       0, 2, 2, 0, 2, 3, 2, 0, 1, 3, 1, 2, 3, 3, 2, 3, 2, 3, 2, 2, 3, 0,\n",
       "       3, 3, 1, 3, 3, 0, 2, 2, 2, 0, 1, 3, 2, 1, 2, 2, 3, 3, 0, 3, 3, 2,\n",
       "       3, 1, 3, 0, 1, 2, 3, 2, 3, 2, 2, 3, 2, 1, 2, 0, 2, 2, 1, 1, 3, 2,\n",
       "       2, 3, 2, 0, 2, 1, 2], dtype=int32)"
      ]
     },
     "execution_count": 10,
     "metadata": {},
     "output_type": "execute_result"
    }
   ],
   "source": [
    "print(len(kmeans.labels_)) #if it matches sum(n), then everything's great\n",
    "kmeans.labels_"
   ]
  }
 ],
 "metadata": {
  "kernelspec": {
   "display_name": "Python 3.9.16 ('mle')",
   "language": "python",
   "name": "python3"
  },
  "language_info": {
   "codemirror_mode": {
    "name": "ipython",
    "version": 3
   },
   "file_extension": ".py",
   "mimetype": "text/x-python",
   "name": "python",
   "nbconvert_exporter": "python",
   "pygments_lexer": "ipython3",
   "version": "3.9.16"
  },
  "vscode": {
   "interpreter": {
    "hash": "c3556803424b22a6446db588f11ad01dc6e87bf25935171fd9406bc62c6616f2"
   }
  }
 },
 "nbformat": 4,
 "nbformat_minor": 5
}
