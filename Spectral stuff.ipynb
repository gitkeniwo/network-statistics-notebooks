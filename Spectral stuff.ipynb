{
 "cells": [
  {
   "cell_type": "code",
   "execution_count": 1,
   "id": "0ea875af",
   "metadata": {},
   "outputs": [],
   "source": [
    "import networkx as nx\n",
    "import numpy as np\n",
    "import matplotlib.pyplot as plt"
   ]
  },
  {
   "cell_type": "code",
   "execution_count": 2,
   "id": "5e4f911b",
   "metadata": {},
   "outputs": [],
   "source": [
    "#Generate the instance of SBM\n",
    "n = [5, 5, 5]\n",
    "groups = [[range(sum(n[:i]), sum(n[:i+1]))] for i in range(0, len(n))] #range(0, 5), range(5, 10), range(10, 15)\n",
    "\n",
    "P = [[0.5, 0.3, 0.1],\n",
    "     [0.3, 0.7, 0.1],\n",
    "     [0.1, 0.1, 0.3]]\n",
    "\n",
    "G = nx.stochastic_block_model(n, P)\n",
    "\n",
    "#means of Gaussian distribution for group-group weights of edges:\n",
    "W = [[0.9, 0.5, 0.2],\n",
    "    [0.5, 0.8, 0.1],\n",
    "    [0.2, 0.1, 0.9]]"
   ]
  },
  {
   "cell_type": "code",
   "execution_count": 95,
   "id": "6d2e579e",
   "metadata": {},
   "outputs": [
    {
     "data": {
      "text/plain": [
       "[[range(0, 5)], [range(5, 10)], [range(10, 15)]]"
      ]
     },
     "execution_count": 95,
     "metadata": {},
     "output_type": "execute_result"
    }
   ],
   "source": [
    " #range(0, 5), range(5, 10), range(10, 15)\n",
    "groups"
   ]
  },
  {
   "cell_type": "code",
   "execution_count": 3,
   "id": "343cb7ff",
   "metadata": {},
   "outputs": [
    {
     "data": {
      "text/plain": [
       "[2, 9, 13]"
      ]
     },
     "execution_count": 3,
     "metadata": {},
     "output_type": "execute_result"
    }
   ],
   "source": [
    "list(G.adj[0])"
   ]
  },
  {
   "cell_type": "code",
   "execution_count": 67,
   "id": "b58e99c8",
   "metadata": {},
   "outputs": [],
   "source": [
    "def group_belonging(i: int, n: list):\n",
    "    if i >= sum(n):\n",
    "        raise ValueError(\"Such item does not belong in n\")\n",
    "        \n",
    "    for j in range(1, len(n)):\n",
    "        if sum(n[:j]) > i:\n",
    "            return j-1\n",
    "    return len(n)-1"
   ]
  },
  {
   "cell_type": "code",
   "execution_count": 69,
   "id": "e6cc34d6",
   "metadata": {},
   "outputs": [
    {
     "data": {
      "text/plain": [
       "2"
      ]
     },
     "execution_count": 69,
     "metadata": {},
     "output_type": "execute_result"
    }
   ],
   "source": [
    "group_belonging(13, n)"
   ]
  },
  {
   "cell_type": "code",
   "execution_count": 70,
   "id": "a09993bd",
   "metadata": {},
   "outputs": [],
   "source": [
    "def generate_weights_matrix(G: nx.Graph, W: np.array, n: list) -> np.array:\n",
    "    ''''''\n",
    "    \n",
    "    #cumulative_n = [sum(n[:i]) for i in range(len(n)+1)]\n",
    "    \n",
    "    weights_matrix = np.full((sum(n), sum(n)), -1.0)\n",
    "\n",
    "    #For each node:\n",
    "    for key in range(sum(n)):\n",
    "        group1 = group_belonging(key, n)\n",
    "\n",
    "        #For each other node:\n",
    "        for potential_neighbour in range(sum(n)):\n",
    "\n",
    "            #If the node is a neighbour:\n",
    "            if (potential_neighbour in G.adj[key]):\n",
    "\n",
    "                #If this is the first time we see the edge - generate weight:\n",
    "                if potential_neighbour > key:\n",
    "                    group2 = group_belonging(potential_neighbour, n)\n",
    "                    mean = W[group1][group2] #Retrieve the mean of the distribution from the weight matrix\n",
    "                    weight = round(abs(np.random.normal(loc=mean, scale=1.0)), 2) #Using the absolute value here\n",
    "                    weights_matrix[key][potential_neighbour] = weight\n",
    "\n",
    "                #Else, copy the weight given before:\n",
    "                else:\n",
    "                    weights_matrix[key][potential_neighbour] = weights_matrix[potential_neighbour][key]\n",
    "\n",
    "            elif potential_neighbour == key: #Self-loops' weight goes here\n",
    "                weights_matrix[key][potential_neighbour] = 0\n",
    "\n",
    "            else: #Regular disconnected nodes\n",
    "                weights_matrix[key][potential_neighbour] = 0\n",
    "                \n",
    "    return weights_matrix"
   ]
  },
  {
   "cell_type": "code",
   "execution_count": 71,
   "id": "69e75afd",
   "metadata": {},
   "outputs": [
    {
     "data": {
      "text/plain": [
       "array([[0.  , 0.  , 1.8 , 0.  , 0.  , 0.  , 0.  , 0.  , 0.  , 2.37, 0.  ,\n",
       "        0.  , 0.  , 0.15, 0.  ],\n",
       "       [0.  , 0.  , 0.  , 1.5 , 1.68, 1.28, 0.  , 1.78, 0.38, 0.3 , 0.  ,\n",
       "        0.  , 0.  , 0.  , 0.  ],\n",
       "       [1.8 , 0.  , 0.  , 0.  , 0.09, 0.  , 0.  , 1.02, 0.  , 0.  , 0.  ,\n",
       "        0.  , 0.54, 0.  , 0.  ],\n",
       "       [0.  , 1.5 , 0.  , 0.  , 2.55, 0.51, 0.  , 0.  , 0.  , 0.  , 0.  ,\n",
       "        0.  , 0.  , 0.73, 0.  ],\n",
       "       [0.  , 1.68, 0.09, 2.55, 0.  , 0.  , 0.  , 0.  , 0.87, 0.  , 0.  ,\n",
       "        0.  , 0.  , 0.  , 0.  ],\n",
       "       [0.  , 1.28, 0.  , 0.51, 0.  , 0.  , 4.88, 0.  , 0.21, 1.31, 0.04,\n",
       "        0.  , 0.  , 0.  , 0.  ],\n",
       "       [0.  , 0.  , 0.  , 0.  , 0.  , 4.88, 0.  , 1.4 , 2.49, 0.01, 0.  ,\n",
       "        0.  , 0.  , 0.  , 0.  ],\n",
       "       [0.  , 1.78, 1.02, 0.  , 0.  , 0.  , 1.4 , 0.  , 0.  , 0.48, 0.35,\n",
       "        0.  , 0.  , 0.  , 0.  ],\n",
       "       [0.  , 0.38, 0.  , 0.  , 0.87, 0.21, 2.49, 0.  , 0.  , 0.04, 0.  ,\n",
       "        0.  , 0.  , 0.  , 0.  ],\n",
       "       [2.37, 0.3 , 0.  , 0.  , 0.  , 1.31, 0.01, 0.48, 0.04, 0.  , 0.  ,\n",
       "        0.  , 0.  , 0.  , 0.  ],\n",
       "       [0.  , 0.  , 0.  , 0.  , 0.  , 0.04, 0.  , 0.35, 0.  , 0.  , 0.  ,\n",
       "        0.  , 0.  , 0.  , 0.  ],\n",
       "       [0.  , 0.  , 0.  , 0.  , 0.  , 0.  , 0.  , 0.  , 0.  , 0.  , 0.  ,\n",
       "        0.  , 0.  , 0.78, 0.  ],\n",
       "       [0.  , 0.  , 0.54, 0.  , 0.  , 0.  , 0.  , 0.  , 0.  , 0.  , 0.  ,\n",
       "        0.  , 0.  , 0.  , 0.99],\n",
       "       [0.15, 0.  , 0.  , 0.73, 0.  , 0.  , 0.  , 0.  , 0.  , 0.  , 0.  ,\n",
       "        0.78, 0.  , 0.  , 0.  ],\n",
       "       [0.  , 0.  , 0.  , 0.  , 0.  , 0.  , 0.  , 0.  , 0.  , 0.  , 0.  ,\n",
       "        0.  , 0.99, 0.  , 0.  ]])"
      ]
     },
     "execution_count": 71,
     "metadata": {},
     "output_type": "execute_result"
    }
   ],
   "source": [
    "weights_matrix"
   ]
  },
  {
   "cell_type": "code",
   "execution_count": 73,
   "id": "4e8241d4",
   "metadata": {},
   "outputs": [],
   "source": [
    "#G.add_weighted_edges_from(weights_matrix)"
   ]
  },
  {
   "cell_type": "code",
   "execution_count": 4,
   "id": "dd66e117",
   "metadata": {},
   "outputs": [],
   "source": [
    "#Wrong way, only works with the adjacency matrix (?)\n",
    "A = nx.to_numpy_array(G)\n",
    "A"
   ]
  },
  {
   "cell_type": "code",
   "execution_count": 81,
   "id": "b67e8a6b",
   "metadata": {},
   "outputs": [],
   "source": [
    "eigenvalues, eigenvectors = np.linalg.eig(weights_matrix)"
   ]
  },
  {
   "cell_type": "code",
   "execution_count": 82,
   "id": "f75c4b8b",
   "metadata": {},
   "outputs": [
    {
     "data": {
      "text/plain": [
       "array([ 6.46083627, -6.0223001 ,  3.67884888,  3.05867111, -3.06704262,\n",
       "       -2.83422951, -2.18446496,  1.17316209,  0.9809398 ,  0.72879961,\n",
       "        0.38339434, -1.09218456, -0.04462008, -0.78722524, -0.43258504])"
      ]
     },
     "execution_count": 82,
     "metadata": {},
     "output_type": "execute_result"
    }
   ],
   "source": [
    "eigenvalues"
   ]
  },
  {
   "cell_type": "code",
   "execution_count": 83,
   "id": "316da4b6",
   "metadata": {},
   "outputs": [
    {
     "data": {
      "text/plain": [
       "array([[ 8.34746870e-02,  8.95474870e-02,  1.48017006e-02,\n",
       "         6.57921943e-01,  6.18797839e-01, -2.42940402e-01,\n",
       "         1.38798126e-01,  1.94900950e-01,  9.06524948e-02,\n",
       "         1.07993063e-01, -1.47919440e-01,  7.81385319e-02,\n",
       "        -6.46955640e-02,  1.73580826e-02,  1.99438913e-02],\n",
       "       [ 2.94795815e-01, -2.11738169e-01, -4.24909233e-01,\n",
       "         1.44147703e-02, -3.49119136e-02, -1.03955473e-01,\n",
       "         6.77861171e-01, -1.54903513e-01, -2.48417401e-01,\n",
       "        -5.93509912e-02,  2.38001461e-01, -1.03869780e-01,\n",
       "         1.27194585e-01, -2.94913432e-03,  2.07691487e-01],\n",
       "       [ 6.30495798e-02, -6.84518161e-02, -2.93130723e-02,\n",
       "         4.54883242e-01, -4.34831157e-01,  1.43288172e-01,\n",
       "         1.23405415e-01, -3.07960117e-01, -1.60558694e-02,\n",
       "        -1.18958747e-01, -4.29928555e-01,  2.39567368e-01,\n",
       "         1.28963695e-01, -1.59014059e-01, -4.06602936e-01],\n",
       "       [ 1.91199274e-01, -9.44117984e-03, -5.51793331e-01,\n",
       "        -6.94318923e-02, -1.71724518e-01, -6.02755924e-01,\n",
       "        -3.46204403e-01,  1.53506916e-01,  1.54959372e-01,\n",
       "         6.07249397e-02,  4.76124703e-02,  9.13963952e-02,\n",
       "        -2.85990483e-02, -1.56756826e-02, -2.80084544e-01],\n",
       "       [ 1.91832885e-01,  2.67256384e-02, -5.61988456e-01,\n",
       "        -8.18353526e-02,  2.35417942e-01,  6.58012405e-01,\n",
       "        -1.66525540e-01,  7.39527384e-02,  9.14282747e-02,\n",
       "         2.09442207e-01, -1.89903456e-01,  4.83452364e-02,\n",
       "        -8.45677513e-02, -1.37962019e-01,  3.93085717e-02],\n",
       "       [ 5.61765237e-01,  6.02197610e-01,  2.42551333e-01,\n",
       "        -7.36566071e-02, -5.79251279e-02,  1.05051313e-01,\n",
       "         1.47639174e-01,  1.29971134e-01,  6.87158419e-02,\n",
       "         3.14879586e-02,  3.00255090e-01,  7.78547014e-02,\n",
       "         5.44600831e-02, -1.56944393e-01, -2.73706442e-01],\n",
       "       [ 5.86070426e-01, -6.50508295e-01,  3.35153974e-01,\n",
       "        -1.70897055e-01,  1.99366624e-01, -8.21741189e-03,\n",
       "        -1.51519926e-01, -2.73081513e-02,  5.10453230e-02,\n",
       "        -3.29378367e-02, -9.84538578e-02,  6.27617981e-02,\n",
       "         1.01557378e-02, -3.27307712e-04, -1.04316089e-01],\n",
       "       [ 2.32274066e-01,  2.40431469e-01, -7.98015653e-02,\n",
       "         1.62747608e-01,  1.49482185e-01, -1.10284894e-02,\n",
       "        -4.74208831e-01, -4.43986671e-01, -4.35629374e-01,\n",
       "        -3.49260161e-01,  5.96279473e-02, -4.71128953e-02,\n",
       "         1.14307073e-01,  2.03570300e-01,  1.97190162e-01],\n",
       "       [ 2.88403773e-01,  2.58627566e-01,  6.44690580e-02,\n",
       "        -1.59094723e-01, -2.14198303e-01, -1.91013003e-01,\n",
       "         1.11123195e-01, -1.92296254e-02,  1.30259193e-01,\n",
       "         1.24377879e-01, -6.38354706e-01, -1.52784553e-01,\n",
       "        -1.70796141e-01,  1.92926420e-01,  4.42395234e-01],\n",
       "       [ 1.78161862e-01, -1.75486454e-01,  5.24552827e-02,\n",
       "         5.02556606e-01, -4.71259369e-01,  1.70188950e-01,\n",
       "        -2.29359008e-01,  3.16708594e-01,  2.74814687e-02,\n",
       "         1.59698698e-01,  3.03260136e-01, -2.08681848e-01,\n",
       "        -9.65866656e-02,  7.61099994e-02,  3.18265850e-01],\n",
       "       [ 1.60608516e-02, -1.79730198e-02, -4.95494518e-03,\n",
       "         1.76597603e-02, -1.63029230e-02, -1.20696374e-04,\n",
       "         7.32753909e-02, -1.28027057e-01, -1.52630821e-01,\n",
       "        -1.66001102e-01,  8.57602251e-02,  1.22463966e-02,\n",
       "        -9.45446154e-01, -8.25327060e-02, -1.34235570e-01],\n",
       "       [ 2.88411994e-03,  1.43053598e-04, -2.41738131e-02,\n",
       "         4.28055935e-03, -2.88469905e-03, -5.00552774e-02,\n",
       "        -4.34466109e-02,  1.43519882e-01,  2.79333599e-01,\n",
       "        -6.11149218e-01, -2.12478968e-02,  1.04682222e-01,\n",
       "         3.93359551e-02, -6.08892335e-01,  3.73030680e-01],\n",
       "       [ 5.39642263e-03,  6.30832562e-03, -4.63864178e-03,\n",
       "         8.97062144e-02,  8.54632193e-02, -3.10942583e-02,\n",
       "        -3.83909719e-02, -4.92404046e-01,  4.76276084e-01,\n",
       "         1.04279562e-01,  1.06840040e-01, -6.64068622e-01,\n",
       "         3.17690518e-03, -1.87573689e-01, -1.19778509e-01],\n",
       "       [ 2.38895214e-02, -1.10450218e-03, -1.14015135e-01,\n",
       "         1.67856708e-02,  1.13429422e-02,  1.81882236e-01,\n",
       "         1.21676409e-01,  2.15861646e-01,  3.51294160e-01,\n",
       "        -5.71032449e-01, -1.04440044e-02, -1.46579880e-01,\n",
       "        -2.25022216e-03,  6.14532581e-01, -2.06881398e-01],\n",
       "       [ 8.26898900e-04, -1.03701945e-03, -1.24828595e-03,\n",
       "         2.90352081e-02, -2.75863747e-02,  1.08612643e-02,\n",
       "         1.73987969e-02, -4.15526560e-01,  4.80675086e-01,\n",
       "         1.41653159e-01,  2.75882107e-01,  6.01938501e-01,\n",
       "        -7.04870195e-02,  2.35889226e-01,  2.74121188e-01]])"
      ]
     },
     "execution_count": 83,
     "metadata": {},
     "output_type": "execute_result"
    }
   ],
   "source": [
    "eigenvectors"
   ]
  }
 ],
 "metadata": {
  "kernelspec": {
   "display_name": "Python 3.11.3 64-bit",
   "language": "python",
   "name": "python3"
  },
  "language_info": {
   "codemirror_mode": {
    "name": "ipython",
    "version": 3
   },
   "file_extension": ".py",
   "mimetype": "text/x-python",
   "name": "python",
   "nbconvert_exporter": "python",
   "pygments_lexer": "ipython3",
   "version": "3.11.3"
  },
  "vscode": {
   "interpreter": {
    "hash": "b0fa6594d8f4cbf19f97940f81e996739fb7646882a419484c72d19e05852a7e"
   }
  }
 },
 "nbformat": 4,
 "nbformat_minor": 5
}
